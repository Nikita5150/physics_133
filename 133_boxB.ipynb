{
 "cells": [
  {
   "cell_type": "code",
   "execution_count": 11,
   "metadata": {},
   "outputs": [
    {
     "data": {
      "text/plain": [
       "20"
      ]
     },
     "execution_count": 11,
     "metadata": {},
     "output_type": "execute_result"
    }
   ],
   "source": [
    "f = [10,100,500,1000,1500,2000,2500,3000,3500,4000,4500,5000,7000,10000,15000,17500,20000,22500,25000,30000]\n",
    "v1 = [94,96,100,240,256,272,272,280,288,96,288,296,100,320,320,328,328,336,328,336]\n",
    "v2 = [90,90,90,232,240,248,264,272,272,96,288,288,96,312,320,328,320,320,336,336]\n",
    "R = [55,56,59,70,80,100,120,140,160,190,210,230,330,450,700,800,900,1000,1200,1400]\n",
    "p = [0,0,32,50,60,63,72,73,73,73,77,79,86,86,90,90,85,83,90,83]\n",
    "len(p)"
   ]
  },
  {
   "cell_type": "code",
   "execution_count": null,
   "metadata": {},
   "outputs": [],
   "source": []
  }
 ],
 "metadata": {
  "kernelspec": {
   "display_name": "Python 3",
   "language": "python",
   "name": "python3"
  },
  "language_info": {
   "codemirror_mode": {
    "name": "ipython",
    "version": 3
   },
   "file_extension": ".py",
   "mimetype": "text/x-python",
   "name": "python",
   "nbconvert_exporter": "python",
   "pygments_lexer": "ipython3",
   "version": "3.7.1"
  }
 },
 "nbformat": 4,
 "nbformat_minor": 2
}
