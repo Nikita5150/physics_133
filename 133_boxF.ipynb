{
 "cells": [
  {
   "cell_type": "code",
   "execution_count": null,
   "metadata": {},
   "outputs": [],
   "source": [
    "%matplotlib inline \n",
    "import numpy as np \n",
    "import matplotlib.pyplot as plt"
   ]
  },
  {
   "cell_type": "code",
   "execution_count": null,
   "metadata": {},
   "outputs": [],
   "source": [
    "f = [10,100,500,1000,1500,2000,2500,3000,4000,4500,5000,6000,7000,8000,9000,10000,11000,12500,15000,20000]\n",
    "Z = [2300,2300,2300,2300,2200,2300,2300,2100,2062,2000,1958,1855,1700,1500,1457,1324,1282,1168,1000,780]\n",
    "p = [0,0,0,0,20,25,22,28,39,39,40,43,45,55,55,55,59,63,90,90]\n",
    "\n",
    "v1 = [88,88,88,88,126,88,130,130,134,132,136,136,136,144,136,140,146,144,152,156]\n",
    "v2 = [84,84,84,84,126,88,130,130,130,132,132,132,136,136,140,148,140,152,152,160]\n",
    "R = [2200,2200,2200,2200,2200,2200,2200,2100,2000,2000,1900,1800,1700,1500,1500,1400,1300,1200,1000,800]\n"
   ]
  },
  {
   "cell_type": "code",
   "execution_count": null,
   "metadata": {},
   "outputs": [],
   "source": []
  }
 ],
 "metadata": {
  "kernelspec": {
   "display_name": "Python 3",
   "language": "python",
   "name": "python3"
  },
  "language_info": {
   "codemirror_mode": {
    "name": "ipython",
    "version": 3
   },
   "file_extension": ".py",
   "mimetype": "text/x-python",
   "name": "python",
   "nbconvert_exporter": "python",
   "pygments_lexer": "ipython3",
   "version": "3.7.1"
  }
 },
 "nbformat": 4,
 "nbformat_minor": 2
}
