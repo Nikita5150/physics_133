{
 "cells": [
  {
   "cell_type": "code",
   "execution_count": 55,
   "metadata": {},
   "outputs": [
    {
     "name": "stdout",
     "output_type": "stream",
     "text": [
      "[ 500 1000 1500 2000 2500 3000]\n",
      "[3.33, 4.88, 5.76, 6.34, 6.75, 7.06]\n",
      "[0.00666, 0.00488, 0.0038399999999999997, 0.00317, 0.0027, 0.002353333333333333]\n"
     ]
    }
   ],
   "source": [
    "import numpy as np\n",
    "\n",
    "RL = np.arange(500,3001,500)\n",
    "V = [3.33,4.88,5.76,6.34,6.75,7.06]\n",
    "I = []\n",
    "\n",
    "end_index = len(RL)\n",
    "\n",
    "for i in range(end_index):\n",
    "    I.append(V[i]/RL[i])\n",
    "   \n",
    "print RL\n",
    "print V\n",
    "print I"
   ]
  },
  {
   "cell_type": "markdown",
   "metadata": {},
   "source": [
    "Ohm's Law: V = IR -> I = V_0/R_0\n",
    "Thevenin's Model : V = V_0 - I*R_0 -> V_0 = V + IR_0\n",
    "1) V_0 = V_1 + I_1*R_0\n",
    "2) V_0 = V_2 + I_2*R_0\n",
    "\n",
    "R_0 = (V_1 - V_2)/(I_2 - I_1)"
   ]
  },
  {
   "cell_type": "code",
   "execution_count": 27,
   "metadata": {},
   "outputs": [],
   "source": [
    "import matplotlib.pyplot as plt"
   ]
  },
  {
   "cell_type": "code",
   "execution_count": null,
   "metadata": {},
   "outputs": [],
   "source": []
  },
  {
   "cell_type": "code",
   "execution_count": 77,
   "metadata": {},
   "outputs": [
    {
     "data": {
      "image/png": "[encoded data removed]",
      "text/plain": [
       "<Figure size 432x288 with 1 Axes>"
      ]
     },
     "metadata": {},
     "output_type": "display_data"
    },
    {
     "data": {
      "text/plain": [
       "-870.7865168539321"
      ]
     },
     "execution_count": 77,
     "metadata": {},
     "output_type": "execute_result"
    }
   ],
   "source": [
    "A = ((V[1]-V[0])/(I[1]-I[0]))\n",
    "B = ((V[1]-V[2])/(I[2]-I[1]))\n",
    "C = ((V[2]-V[3])/(I[2]-I[3]))\n",
    "D = ((V[3]-V[4])/(I[3]-I[4]))\n",
    "\n",
    "x = np.linspace(0,.01,100) #array 0-1 for 100 data points\n",
    "y = A*x + 9 #guessing y-int value of 9\n",
    "z = C*x + 9\n",
    "\n",
    "plt.scatter(I,V)\n",
    "plt.plot(x,y)\n",
    "plt.plot(x,z)\n",
    "plt.show()\n",
    "\n",
    "((x*y).mean() - x.mean()*y.mean()) / ((x**2).mean() - (x.mean())**2)"
   ]
  },
  {
   "cell_type": "code",
   "execution_count": null,
   "metadata": {},
   "outputs": [],
   "source": []
  }
 ],
 "metadata": {
  "kernelspec": {
   "display_name": "Python 2",
   "language": "python",
   "name": "python2"
  },
  "language_info": {
   "codemirror_mode": {
    "name": "ipython",
    "version": 2
   },
   "file_extension": ".py",
   "mimetype": "text/x-python",
   "name": "python",
   "nbconvert_exporter": "python",
   "pygments_lexer": "ipython2",
   "version": "2.7.15"
  }
 },
 "nbformat": 4,
 "nbformat_minor": 2
}
